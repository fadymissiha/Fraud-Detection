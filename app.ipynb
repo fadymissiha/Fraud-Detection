{
 "cells": [
  {
   "cell_type": "code",
   "execution_count": 1,
   "id": "559912ed-2c98-4136-aba4-4a2dd330a50c",
   "metadata": {
    "tags": []
   },
   "outputs": [
    {
     "name": "stdout",
     "output_type": "stream",
     "text": [
      "\u001b[33mWARNING: You are using pip version 21.3.1; however, version 22.0.3 is available.\n",
      "You should consider upgrading via the '/opt/app-root/bin/python3.8 -m pip install --upgrade pip' command.\u001b[0m\n"
     ]
    }
   ],
   "source": [
    "import sys\n",
    "!{sys.executable} -m pip install -r req.txt --quiet"
   ]
  },
  {
   "cell_type": "code",
   "execution_count": 2,
   "id": "35b6d9c0-2c86-4b4d-9dbe-42363d3fac32",
   "metadata": {},
   "outputs": [
    {
     "name": "stdout",
     "output_type": "stream",
     "text": [
      " * Serving Flask app 'wsfraud.py' (lazy loading)\n",
      " * Environment: development\n",
      " * Debug mode: on\n",
      "Traceback (most recent call last):\n",
      "  File \"/opt/app-root/bin/flask\", line 8, in <module>\n",
      "    sys.exit(main())\n",
      "  File \"/opt/app-root/lib64/python3.8/site-packages/flask/cli.py\", line 995, in main\n",
      "    cli.main(args=sys.argv[1:])\n",
      "  File \"/opt/app-root/lib64/python3.8/site-packages/flask/cli.py\", line 601, in main\n",
      "    return super().main(*args, **kwargs)\n",
      "  File \"/opt/app-root/lib64/python3.8/site-packages/click/core.py\", line 1053, in main\n",
      "    rv = self.invoke(ctx)\n",
      "  File \"/opt/app-root/lib64/python3.8/site-packages/click/core.py\", line 1659, in invoke\n",
      "    return _process_result(sub_ctx.command.invoke(sub_ctx))\n",
      "  File \"/opt/app-root/lib64/python3.8/site-packages/click/core.py\", line 1395, in invoke\n",
      "    return ctx.invoke(self.callback, **ctx.params)\n",
      "  File \"/opt/app-root/lib64/python3.8/site-packages/click/core.py\", line 754, in invoke\n",
      "    return __callback(*args, **kwargs)\n",
      "  File \"/opt/app-root/lib64/python3.8/site-packages/click/decorators.py\", line 84, in new_func\n",
      "    return ctx.invoke(f, obj, *args, **kwargs)\n",
      "  File \"/opt/app-root/lib64/python3.8/site-packages/click/core.py\", line 754, in invoke\n",
      "    return __callback(*args, **kwargs)\n",
      "  File \"/opt/app-root/lib64/python3.8/site-packages/flask/cli.py\", line 854, in run_command\n",
      "    run_simple(\n",
      "  File \"/opt/app-root/lib64/python3.8/site-packages/werkzeug/serving.py\", line 991, in run_simple\n",
      "    s.bind(server_address)\n",
      "OSError: [Errno 98] Address already in use\n"
     ]
    }
   ],
   "source": [
    "!FLASK_ENV=development FLASK_APP=wsfraud.py flask run"
   ]
  },
  {
   "cell_type": "code",
   "execution_count": 3,
   "id": "162049c8-f06f-4e6b-b0b0-42b13d1facf1",
   "metadata": {
    "tags": []
   },
   "outputs": [
    {
     "name": "stdout",
     "output_type": "stream",
     "text": [
      "{\n",
      "  \"status\": \"ok\"\n",
      "}\n"
     ]
    }
   ],
   "source": [
    "!curl http://localhost:5000/status"
   ]
  },
  {
   "cell_type": "code",
   "execution_count": 4,
   "id": "483f2304-aa41-4210-bd71-2ac74ad51ec4",
   "metadata": {},
   "outputs": [
    {
     "data": {
      "text/plain": [
       "\"{'isFraud': 1}\""
      ]
     },
     "execution_count": 4,
     "metadata": {},
     "output_type": "execute_result"
    }
   ],
   "source": [
    "import requests\n",
    "exampleTran = '{ \"CASH_OUT\": 0.0, \"amount\": 181.0, \"oldbalanceOrg\": 181.0, \"newbalanceOrig\": 0.0, \"oldbalanceDest\": 0.0, \"newbalanceDest\": 0.0 }'\n",
    "response = requests.post('http://127.0.0.1:5000/predictions', exampleTran)\n",
    "response.json()"
   ]
  },
  {
   "cell_type": "code",
   "execution_count": 5,
   "id": "2047139a-ab6f-4701-a843-aec26f2fbd00",
   "metadata": {},
   "outputs": [
    {
     "data": {
      "text/plain": [
       "<Response [200]>"
      ]
     },
     "execution_count": 5,
     "metadata": {},
     "output_type": "execute_result"
    }
   ],
   "source": [
    "response"
   ]
  },
  {
   "cell_type": "code",
   "execution_count": 6,
   "id": "329eb3de-370b-451f-b7e7-f95c4030f0c8",
   "metadata": {},
   "outputs": [
    {
     "data": {
      "text/plain": [
       "\"{'isFraud': 0}\""
      ]
     },
     "execution_count": 6,
     "metadata": {},
     "output_type": "execute_result"
    }
   ],
   "source": [
    "import requests\n",
    "exampleTran = '{ \"CASH_OUT\": 1.0, \"amount\": 229133.94, \"oldbalanceOrg\": 15325.0, \"newbalanceOrig\": 0.0, \"oldbalanceDest\": 5083.0, \"newbalanceDest\": 51513.44 }'\n",
    "response = requests.post('http://127.0.0.1:5000/predictions', exampleTran)\n",
    "response.json()"
   ]
  },
  {
   "cell_type": "code",
   "execution_count": null,
   "id": "9371ee31-49de-4f15-9a87-824e4dfa9d54",
   "metadata": {},
   "outputs": [],
   "source": []
  }
 ],
 "metadata": {
  "kernelspec": {
   "display_name": "Python 3 (ipykernel)",
   "language": "python",
   "name": "python3"
  },
  "language_info": {
   "codemirror_mode": {
    "name": "ipython",
    "version": 3
   },
   "file_extension": ".py",
   "mimetype": "text/x-python",
   "name": "python",
   "nbconvert_exporter": "python",
   "pygments_lexer": "ipython3",
   "version": "3.8.8"
  }
 },
 "nbformat": 4,
 "nbformat_minor": 5
}
