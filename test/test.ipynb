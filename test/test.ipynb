{
 "cells": [
  {
   "cell_type": "code",
   "execution_count": 14,
   "id": "1cb7a808-083a-44f2-9694-e3a55efdb3a6",
   "metadata": {},
   "outputs": [
    {
     "data": {
      "text/plain": [
       "\"{'isFraud': 1}\""
      ]
     },
     "execution_count": 14,
     "metadata": {},
     "output_type": "execute_result"
    }
   ],
   "source": [
    "## YOU MUST PASTE YOUR OWN ROUTE INFORMATION HERE\n",
    "my_route = 'http://fraud-detection-test-fady-missiha-dev.apps.rhods-sb-prod.3sox.p1.openshiftapps.com/'\n",
    "## YOU MUST PASTE YOUR OWN ROUTE INFORMATION HERE\n",
    "\n",
    "\n",
    "import requests\n",
    "\n",
    "test_fraud_Tran = '{ \"CASH_OUT\": 0.0, \"amount\": 181.0, \"oldbalanceOrg\": 181.0, \"newbalanceOrig\": 0.0, \"oldbalanceDest\": 0.0, \"newbalanceDest\": 0.0 }'  # fraud\n",
    "\n",
    "response = requests.post(my_route + '/predictions', test_fraud_Tran)\n",
    "response.json()"
   ]
  },
  {
   "cell_type": "code",
   "execution_count": 15,
   "id": "f12852a6-cf48-4dc1-811f-c6f39bdd93c6",
   "metadata": {},
   "outputs": [
    {
     "data": {
      "text/plain": [
       "\"{'isFraud': 0}\""
      ]
     },
     "execution_count": 15,
     "metadata": {},
     "output_type": "execute_result"
    }
   ],
   "source": [
    "test_non_fraud_Tran = '{ \"CASH_OUT\": 1.0, \"amount\": 229133.94, \"oldbalanceOrg\": 15325.0, \"newbalanceOrig\": 0.0, \"oldbalanceDest\": 5083.0, \"newbalanceDest\": 51513.44 }'  # non-fraud\n",
    "\n",
    "\n",
    "response = requests.post(my_route + '/predictions', test_non_fraud_Tran)\n",
    "response.json()"
   ]
  },
  {
   "cell_type": "code",
   "execution_count": null,
   "id": "15fca206-b6cf-4972-8c93-c438c7e33a99",
   "metadata": {},
   "outputs": [],
   "source": []
  }
 ],
 "metadata": {
  "kernelspec": {
   "display_name": "Python 3 (ipykernel)",
   "language": "python",
   "name": "python3"
  },
  "language_info": {
   "codemirror_mode": {
    "name": "ipython",
    "version": 3
   },
   "file_extension": ".py",
   "mimetype": "text/x-python",
   "name": "python",
   "nbconvert_exporter": "python",
   "pygments_lexer": "ipython3",
   "version": "3.8.8"
  }
 },
 "nbformat": 4,
 "nbformat_minor": 5
}
